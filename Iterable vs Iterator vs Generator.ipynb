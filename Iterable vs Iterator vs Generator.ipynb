{
 "cells": [
  {
   "cell_type": "code",
   "execution_count": 1,
   "id": "8addc794",
   "metadata": {},
   "outputs": [
    {
     "ename": "TypeError",
     "evalue": "'int' object is not iterable",
     "output_type": "error",
     "traceback": [
      "\u001b[1;31m---------------------------------------------------------------------------\u001b[0m",
      "\u001b[1;31mTypeError\u001b[0m                                 Traceback (most recent call last)",
      "\u001b[1;32m<ipython-input-1-2eca7b8fab5b>\u001b[0m in \u001b[0;36m<module>\u001b[1;34m\u001b[0m\n\u001b[0;32m      1\u001b[0m \u001b[0mint_variable\u001b[0m \u001b[1;33m=\u001b[0m \u001b[1;36m10\u001b[0m\u001b[1;33m\u001b[0m\u001b[1;33m\u001b[0m\u001b[0m\n\u001b[1;32m----> 2\u001b[1;33m \u001b[1;32mfor\u001b[0m \u001b[0mvalue\u001b[0m \u001b[1;32min\u001b[0m \u001b[0mint_variable\u001b[0m\u001b[1;33m:\u001b[0m\u001b[1;33m\u001b[0m\u001b[1;33m\u001b[0m\u001b[0m\n\u001b[0m\u001b[0;32m      3\u001b[0m     \u001b[0mprint\u001b[0m\u001b[1;33m(\u001b[0m\u001b[0mvalue\u001b[0m\u001b[1;33m)\u001b[0m\u001b[1;33m\u001b[0m\u001b[1;33m\u001b[0m\u001b[0m\n",
      "\u001b[1;31mTypeError\u001b[0m: 'int' object is not iterable"
     ]
    }
   ],
   "source": [
    "int_variable = 10\n",
    "for value in int_variable:\n",
    "    print(value)"
   ]
  },
  {
   "cell_type": "code",
   "execution_count": 12,
   "id": "0094abbf",
   "metadata": {},
   "outputs": [
    {
     "name": "stdout",
     "output_type": "stream",
     "text": [
      "A\n",
      "k\n",
      "a\n",
      "s\n",
      "h\n"
     ]
    }
   ],
   "source": [
    "## String,Lists,Dictionaries,Tuples,Sets are iterable objects not Iterator objects\n",
    "string_variable = \"Akash\"\n",
    "for value in string_variable:\n",
    "    print(value)"
   ]
  },
  {
   "cell_type": "code",
   "execution_count": 13,
   "id": "d9cb0a28",
   "metadata": {},
   "outputs": [
    {
     "ename": "TypeError",
     "evalue": "'list' object is not an iterator",
     "output_type": "error",
     "traceback": [
      "\u001b[1;31m---------------------------------------------------------------------------\u001b[0m",
      "\u001b[1;31mTypeError\u001b[0m                                 Traceback (most recent call last)",
      "\u001b[1;32m<ipython-input-13-26761d18f964>\u001b[0m in \u001b[0;36m<module>\u001b[1;34m\u001b[0m\n\u001b[0;32m      2\u001b[0m \u001b[1;31m## list is not iterator object\u001b[0m\u001b[1;33m\u001b[0m\u001b[1;33m\u001b[0m\u001b[1;33m\u001b[0m\u001b[0m\n\u001b[0;32m      3\u001b[0m \u001b[0mlist_1\u001b[0m \u001b[1;33m=\u001b[0m \u001b[1;33m[\u001b[0m\u001b[1;34m'Akash'\u001b[0m\u001b[1;33m,\u001b[0m\u001b[1;34m'Ramesh'\u001b[0m\u001b[1;33m,\u001b[0m\u001b[1;34m'Rohan'\u001b[0m\u001b[1;33m]\u001b[0m\u001b[1;33m\u001b[0m\u001b[1;33m\u001b[0m\u001b[0m\n\u001b[1;32m----> 4\u001b[1;33m \u001b[0mnext\u001b[0m\u001b[1;33m(\u001b[0m\u001b[0mlist_1\u001b[0m\u001b[1;33m)\u001b[0m\u001b[1;33m\u001b[0m\u001b[1;33m\u001b[0m\u001b[0m\n\u001b[0m",
      "\u001b[1;31mTypeError\u001b[0m: 'list' object is not an iterator"
     ]
    }
   ],
   "source": [
    "## converting iterable object into iterator\n",
    "## list is not iterator object\n",
    "list_1 = ['Akash','Ramesh','Rohan'] \n",
    "next(list_1)"
   ]
  },
  {
   "cell_type": "code",
   "execution_count": 14,
   "id": "942ce1fa",
   "metadata": {},
   "outputs": [
    {
     "name": "stdout",
     "output_type": "stream",
     "text": [
      "<class 'list_iterator'>\n",
      "<class 'tuple_iterator'>\n",
      "<class 'str_iterator'>\n"
     ]
    }
   ],
   "source": [
    "## Specific type of Iterator is been created based on the datatype it gets from Iterable object\n",
    "list_ex = [234,567,876,45]\n",
    "list_iterator = iter(list_ex)\n",
    "print(type(list_iterator))\n",
    "tuple_ex = (1,2,3,4)\n",
    "tuple_iterator = iter(tuple_ex)\n",
    "print(type(tuple_iterator))\n",
    "string_ex = iter(\"Ketan\")\n",
    "print(type(string_ex))"
   ]
  },
  {
   "cell_type": "code",
   "execution_count": 15,
   "id": "178df901",
   "metadata": {},
   "outputs": [
    {
     "name": "stdout",
     "output_type": "stream",
     "text": [
      "Akash\n",
      "Ramesh\n",
      "Rohan\n"
     ]
    },
    {
     "ename": "StopIteration",
     "evalue": "",
     "output_type": "error",
     "traceback": [
      "\u001b[1;31m---------------------------------------------------------------------------\u001b[0m",
      "\u001b[1;31mStopIteration\u001b[0m                             Traceback (most recent call last)",
      "\u001b[1;32m<ipython-input-15-2b17525c8fd3>\u001b[0m in \u001b[0;36m<module>\u001b[1;34m\u001b[0m\n\u001b[0;32m      5\u001b[0m \u001b[0mprint\u001b[0m\u001b[1;33m(\u001b[0m\u001b[0mnext\u001b[0m\u001b[1;33m(\u001b[0m\u001b[0miterator\u001b[0m\u001b[1;33m)\u001b[0m\u001b[1;33m)\u001b[0m\u001b[1;33m\u001b[0m\u001b[1;33m\u001b[0m\u001b[0m\n\u001b[0;32m      6\u001b[0m \u001b[1;31m## if you try to call again next() it will raise StopIteration Error as there is no element after Rohan\u001b[0m\u001b[1;33m\u001b[0m\u001b[1;33m\u001b[0m\u001b[1;33m\u001b[0m\u001b[0m\n\u001b[1;32m----> 7\u001b[1;33m \u001b[0mprint\u001b[0m\u001b[1;33m(\u001b[0m\u001b[0mnext\u001b[0m\u001b[1;33m(\u001b[0m\u001b[0miterator\u001b[0m\u001b[1;33m)\u001b[0m\u001b[1;33m)\u001b[0m\u001b[1;33m\u001b[0m\u001b[1;33m\u001b[0m\u001b[0m\n\u001b[0m",
      "\u001b[1;31mStopIteration\u001b[0m: "
     ]
    }
   ],
   "source": [
    "## To convert iterable object to iterator use iter() over iterable object and to access it use next()  \n",
    "list_1 = ['Akash','Ramesh','Rohan']\n",
    "iterator = iter(list_1)\n",
    "print(next(iterator))\n",
    "print(next(iterator))\n",
    "print(next(iterator))\n",
    "## if you try to call again next() it will raise StopIteration Error as there is no element after Rohan\n",
    "print(next(iterator))"
   ]
  },
  {
   "cell_type": "code",
   "execution_count": 3,
   "id": "88c05fd8",
   "metadata": {},
   "outputs": [
    {
     "name": "stdout",
     "output_type": "stream",
     "text": [
      "Satish\n",
      "Roshan\n",
      "Shriti\n"
     ]
    }
   ],
   "source": [
    "## For Loop Internal Mechanism\n",
    "set_example = {'Satish','Roshan','Shriti'}\n",
    "set_iterator_object = iter(set_example)\n",
    "while True:\n",
    "    try:\n",
    "        ## returning the next value in the iterator object\n",
    "        next_element = next(set_iterator_object)\n",
    "        print(next_element)\n",
    "    except StopIteration:\n",
    "        ## catches StopIteration exception which is raised when there is no element to iterate and stops the for loop\n",
    "        break"
   ]
  },
  {
   "cell_type": "code",
   "execution_count": 16,
   "id": "aeef01ec",
   "metadata": {},
   "outputs": [],
   "source": [
    "## Generator Function\n",
    "def square_of_number(n):\n",
    "    for value in range(n):\n",
    "        yield value**2"
   ]
  },
  {
   "cell_type": "code",
   "execution_count": 18,
   "id": "d8ee675e",
   "metadata": {},
   "outputs": [
    {
     "data": {
      "text/plain": [
       "0"
      ]
     },
     "execution_count": 18,
     "metadata": {},
     "output_type": "execute_result"
    }
   ],
   "source": [
    "## You can access elements of generator function using next() \n",
    "next(square_of_number(3))"
   ]
  },
  {
   "cell_type": "code",
   "execution_count": 19,
   "id": "a43f7eb8",
   "metadata": {},
   "outputs": [
    {
     "name": "stdout",
     "output_type": "stream",
     "text": [
      "0\n",
      "1\n",
      "4\n"
     ]
    }
   ],
   "source": [
    "## to access all elements of generator function we can use for loop\n",
    "for number in square_of_number(3):\n",
    "    print(number)"
   ]
  },
  {
   "cell_type": "code",
   "execution_count": 19,
   "id": "127247af",
   "metadata": {},
   "outputs": [
    {
     "name": "stdout",
     "output_type": "stream",
     "text": [
      "List Size: 536721616 bytes\n",
      "Generator Size: 88 bytes\n"
     ]
    }
   ],
   "source": [
    "## Advantage of Generator\n",
    "## we will check the size of a normal list object and generator function\n",
    "import sys\n",
    "list_comprehension = [i for i in range(60000000)]\n",
    "generator_comprehension = (i for i in range(60000000))\n",
    "print(\"List Size:\",sys.getsizeof(list_comprehension),\"bytes\")\n",
    "print(\"Generator Size:\",sys.getsizeof(generator_comprehension),\"bytes\")"
   ]
  },
  {
   "cell_type": "code",
   "execution_count": 24,
   "id": "2cd8aa01",
   "metadata": {},
   "outputs": [
    {
     "name": "stdout",
     "output_type": "stream",
     "text": [
      "<generator object <genexpr> at 0x00000272B380F8E0>\n"
     ]
    }
   ],
   "source": [
    "## just created generator object using generator comprehension\n",
    "numbers = (i**2 for i in [1,2,3,4,5])\n",
    "print(numbers)"
   ]
  },
  {
   "cell_type": "code",
   "execution_count": 1,
   "id": "237ed43f",
   "metadata": {},
   "outputs": [
    {
     "name": "stdout",
     "output_type": "stream",
     "text": [
      "[1, 4, 9, 16, 25]\n"
     ]
    }
   ],
   "source": [
    "\"\"\"\n",
    "when you convert ur generator items and store in a list, you basically loose its functionality of performance,\n",
    "It's ok with smaller datasets like data between 200 to 400 but when you have data in thousands, millions items to loop\n",
    "through having that many items in memory will definitely lag your performance.\n",
    "\"\"\"\n",
    "numbers = (i**2 for i in [1,2,3,4,5])\n",
    "print(list(numbers))"
   ]
  },
  {
   "cell_type": "code",
   "execution_count": 7,
   "id": "6b7336fe",
   "metadata": {},
   "outputs": [
    {
     "name": "stdout",
     "output_type": "stream",
     "text": [
      "Writing memory_usage_by_list.py\n"
     ]
    }
   ],
   "source": [
    "%%file memory_usage_by_list.py\n",
    "## Memory Usage and time using return function\n",
    "import memory_profiler\n",
    "import random\n",
    "import time\n",
    "\n",
    "emp_names = ['Akash', 'Rakesh', 'Gayathri', 'Vani', 'Shubham', 'Durvesh']\n",
    "emp_designations = ['AIEnginner', 'MLEnginner ', 'DataEnginner', 'DataScientist', 'ComputerScientist']\n",
    "\n",
    "@profile\n",
    "def emp_list(num_emp):\n",
    "    result = []\n",
    "    for i in range(num_emp):\n",
    "        emp_details = {\n",
    "                    'emp_id': i,\n",
    "                    'emp_name': random.choice(emp_names),\n",
    "                    'emp_designation': random.choice(emp_designations)\n",
    "                }\n",
    "        result.append(emp_details)\n",
    "    return result\n",
    "t1 = time.clock()\n",
    "employees = emp_list(1000000)\n",
    "t2 = time.clock()\n",
    "print('Took {} Seconds'.format(t2-t1))"
   ]
  },
  {
   "cell_type": "code",
   "execution_count": 1,
   "id": "fdb55954",
   "metadata": {},
   "outputs": [
    {
     "name": "stdout",
     "output_type": "stream",
     "text": [
      "Took 340.81909970000004 Seconds\n",
      "Filename: memory_usage_by_list.py\n",
      "\n",
      "Line #    Mem usage    Increment  Occurences   Line Contents\n",
      "============================================================\n",
      "     9   42.629 MiB   42.629 MiB           1   @profile\n",
      "    10                                         def emp_list(num_emp):\n",
      "    11   42.629 MiB    0.000 MiB           1       result = []\n",
      "    12  313.914 MiB -233.008 MiB     1000001       for i in range(num_emp):\n",
      "    13                                                 emp_details = {\n",
      "    14  313.914 MiB -224.004 MiB     1000000                       'emp_id': i,\n",
      "    15  313.914 MiB -233.273 MiB     1000000                       'emp_name': random.choice(emp_names),\n",
      "    16  313.914 MiB   -7.453 MiB     1000000                       'emp_designation': random.choice(emp_designations)\n",
      "    17                                                         }\n",
      "    18  313.914 MiB -197.344 MiB     1000000           result.append(emp_details)\n",
      "    19  313.914 MiB    0.000 MiB           1       return result\n",
      "\n",
      "\n"
     ]
    }
   ],
   "source": [
    "!python -m memory_profiler memory_usage_by_list.py"
   ]
  },
  {
   "cell_type": "code",
   "execution_count": 9,
   "id": "2449a775",
   "metadata": {},
   "outputs": [
    {
     "name": "stdout",
     "output_type": "stream",
     "text": [
      "Writing memory_usage_by_generatorfunction.py\n"
     ]
    }
   ],
   "source": [
    "%%file memory_usage_by_generatorfunction.py\n",
    "## Memory Usage and time using generator function\n",
    "import memory_profiler\n",
    "import random\n",
    "import time\n",
    "\n",
    "emp_names = ['Akash', 'Rakesh', 'Gayathri', 'Vani', 'Shubham', 'Durvesh']\n",
    "emp_designations = ['AIEnginner', 'MLEnginner ', 'DataEnginner', 'DataScientist', 'ComputerScientist']\n",
    "@profile\n",
    "def emp_generator(num_emp):\n",
    "    for i in range(num_emp):\n",
    "        emp_details = {\n",
    "                    'emp_id': i,\n",
    "                    'emp_name': random.choice(emp_names),\n",
    "                    'emp_designation': random.choice(emp_designations)\n",
    "                }\n",
    "        yield emp_details\n",
    "\n",
    "t1 = time.clock()\n",
    "employees = emp_generator(1000000)\n",
    "t2 = time.clock()\n",
    "print('Took {} Seconds'.format(t2-t1))"
   ]
  },
  {
   "cell_type": "code",
   "execution_count": 11,
   "id": "eacd79a0",
   "metadata": {},
   "outputs": [
    {
     "name": "stdout",
     "output_type": "stream",
     "text": [
      "Took 4.02e-05 Seconds\n"
     ]
    }
   ],
   "source": [
    "!python -m memory_profiler memory_usage_by_generatorfunction.py"
   ]
  }
 ],
 "metadata": {
  "kernelspec": {
   "display_name": "Python 3",
   "language": "python",
   "name": "python3"
  },
  "language_info": {
   "codemirror_mode": {
    "name": "ipython",
    "version": 3
   },
   "file_extension": ".py",
   "mimetype": "text/x-python",
   "name": "python",
   "nbconvert_exporter": "python",
   "pygments_lexer": "ipython3",
   "version": "3.6.9"
  }
 },
 "nbformat": 4,
 "nbformat_minor": 5
}
