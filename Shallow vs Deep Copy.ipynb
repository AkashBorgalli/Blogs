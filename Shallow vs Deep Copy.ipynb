{
 "cells": [
  {
   "cell_type": "markdown",
   "id": "9291f393",
   "metadata": {},
   "source": [
    "### Shallow Copy"
   ]
  },
  {
   "cell_type": "code",
   "execution_count": 6,
   "id": "035dc7ad",
   "metadata": {},
   "outputs": [
    {
     "name": "stdout",
     "output_type": "stream",
     "text": [
      "This is list1:  [10, 20, 30]\n",
      "This is list2:  [10, 20, 30]\n"
     ]
    }
   ],
   "source": [
    "## Shallow Copy\n",
    "lst1=[10,20,30]\n",
    "lst2=lst1\n",
    "print(\"This is list1: \",lst1)\n",
    "print(\"This is list2: \",lst2)"
   ]
  },
  {
   "cell_type": "code",
   "execution_count": 7,
   "id": "77385936",
   "metadata": {},
   "outputs": [
    {
     "name": "stdout",
     "output_type": "stream",
     "text": [
      "This is list1:  [10, 456, 30]\n",
      "This is list2:  [10, 456, 30]\n"
     ]
    }
   ],
   "source": [
    "## Modify Data in lst2\n",
    "## changes reflects in lst1 also\n",
    "lst2[1]=456\n",
    "print(\"This is list1: \",lst1)\n",
    "print(\"This is list2: \",lst2)"
   ]
  },
  {
   "cell_type": "code",
   "execution_count": 8,
   "id": "0687d6a6",
   "metadata": {},
   "outputs": [
    {
     "name": "stdout",
     "output_type": "stream",
     "text": [
      "This is list1:  [10, 20, 30]\n",
      "This is list2:  [10, 456, 30]\n"
     ]
    }
   ],
   "source": [
    "## use copy fuction to overcome this problem\n",
    "lst1=[10,20,30]\n",
    "lst2=lst1.copy()\n",
    "lst2[1]=456\n",
    "print(\"This is list1: \",lst1)\n",
    "print(\"This is list2: \",lst2)"
   ]
  },
  {
   "cell_type": "code",
   "execution_count": 22,
   "id": "f5ef60b2",
   "metadata": {},
   "outputs": [
    {
     "name": "stdout",
     "output_type": "stream",
     "text": [
      "This is Nlst1:  [[10, 20, 30], [40, 50, 60]]\n",
      "This is Nlst2:  [[10, 20, 30], [40, 50, 60]]\n",
      "*******************************************************************\n",
      "After change in Nlst1:  [[10, 20, 30], [40, 50, 95]]\n",
      "This is Nlist2 after changes in Nlst1:  [[10, 20, 30], [40, 50, 95]]\n"
     ]
    }
   ],
   "source": [
    "## copy function fails when we have nested list item assignment\n",
    "Nlst1=[[10,20,30],[40,50,60]]\n",
    "Nlst2=Nlst1.copy()\n",
    "print(\"This is Nlst1: \",Nlst1)\n",
    "print(\"This is Nlst2: \",Nlst2)\n",
    "Nlst1[1][2] = 95\n",
    "print(\"*******************************************************************\")\n",
    "print(\"After change in Nlst1: \",Nlst1)\n",
    "print(\"This is Nlist2 after changes in Nlst1: \",Nlst2)"
   ]
  },
  {
   "cell_type": "code",
   "execution_count": 19,
   "id": "4c172774",
   "metadata": {},
   "outputs": [
    {
     "name": "stdout",
     "output_type": "stream",
     "text": [
      "This is Nlist1:  [[10, 20, 30], [40, 50, 95], [70, 80, 90]]\n",
      "This is Nlist2:  [[10, 20, 30], [40, 50, 95]]\n"
     ]
    }
   ],
   "source": [
    "## But Copy works when we are appending values in the list \n",
    "Nlst1.append([70,80,90])\n",
    "print(\"This is Nlst1: \",Nlst1)\n",
    "print(\"This is Nlst2: \",Nlst2)"
   ]
  },
  {
   "cell_type": "markdown",
   "id": "6df36c10",
   "metadata": {},
   "source": [
    "### Deep Copy"
   ]
  },
  {
   "cell_type": "code",
   "execution_count": 23,
   "id": "43fc0b1b",
   "metadata": {},
   "outputs": [
    {
     "name": "stdout",
     "output_type": "stream",
     "text": [
      "This is Nlist1:  [[10, 20, 30], [40, 50, 60]]\n",
      "This is Nlist2:  [[10, 20, 30], [40, 50, 60]]\n",
      "*******************************************************************\n",
      "After change in Nlst1:  [[10, 20, 30], [40, 50, 195]]\n",
      "This is Nlst2 after changes in Nlst1:  [[10, 20, 30], [40, 50, 60]]\n"
     ]
    }
   ],
   "source": [
    "## To overcome the nested list item assignment we use deepcopy\n",
    "## any manipulation that we do in nested items it creates seperate memory location\n",
    "import copy\n",
    "Nlst1=[[10,20,30],[40,50,60]]\n",
    "Nlst2=copy.deepcopy(Nlst1)\n",
    "print(\"This is Nlist1: \",Nlst1)\n",
    "print(\"This is Nlist2: \",Nlst2)\n",
    "Nlst1[1][2] = 195\n",
    "print(\"*******************************************************************\")\n",
    "print(\"After change in Nlst1: \",Nlst1)\n",
    "print(\"This is Nlst2 after changes in Nlst1: \",Nlst2)\n",
    "## As you can see there is no change in Nlst2 because of deepcopy"
   ]
  }
 ],
 "metadata": {
  "kernelspec": {
   "display_name": "Python 3",
   "language": "python",
   "name": "python3"
  },
  "language_info": {
   "codemirror_mode": {
    "name": "ipython",
    "version": 3
   },
   "file_extension": ".py",
   "mimetype": "text/x-python",
   "name": "python",
   "nbconvert_exporter": "python",
   "pygments_lexer": "ipython3",
   "version": "3.6.9"
  }
 },
 "nbformat": 4,
 "nbformat_minor": 5
}
